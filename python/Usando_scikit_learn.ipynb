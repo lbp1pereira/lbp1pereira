{
  "nbformat": 4,
  "nbformat_minor": 0,
  "metadata": {
    "colab": {
      "name": "Aula 5 - scikit-learn - 10/02/2021 - Mirapalheta.ipynb",
      "provenance": []
    },
    "kernelspec": {
      "name": "python3",
      "display_name": "Python 3"
    }
  },
  "cells": [
    {
      "cell_type": "markdown",
      "metadata": {
        "id": "Q1Azhfwc_BWp"
      },
      "source": [
        "## Aprendendo o básico para trabalhar com Drive no Python"
      ]
    },
    {
      "cell_type": "code",
      "metadata": {
        "id": "o91AH6dF_BCU",
        "colab": {
          "base_uri": "https://localhost:8080/"
        },
        "outputId": "1343867b-ee67-492d-98ff-ecef9cadae1e"
      },
      "source": [
        "from google.colab import drive\n",
        "drive.mount(\"/content/drive\")\n",
        "import os\n",
        "os.chdir(\"/content/drive/My Drive/Colab Notebooks\")"
      ],
      "execution_count": null,
      "outputs": [
        {
          "output_type": "stream",
          "text": [
            "Drive already mounted at /content/drive; to attempt to forcibly remount, call drive.mount(\"/content/drive\", force_remount=True).\n"
          ],
          "name": "stdout"
        }
      ]
    },
    {
      "cell_type": "code",
      "metadata": {
        "colab": {
          "base_uri": "https://localhost:8080/"
        },
        "id": "ltbkWZrMCnbv",
        "outputId": "64afa32b-a609-4c1b-9933-be336e521493"
      },
      "source": [
        "os.listdir()"
      ],
      "execution_count": null,
      "outputs": [
        {
          "output_type": "execute_result",
          "data": {
            "text/plain": [
              "['Python_Leandro.ipynb',\n",
              " 'PythonBasics.ipynb',\n",
              " 'functions.ipynb',\n",
              " 'args e kwargs.ipynb',\n",
              " 'Pandas.ipynb',\n",
              " 'Matplotlib_basics.ipynb',\n",
              " 'loops.ipynb',\n",
              " 'NumPy.ipynb',\n",
              " 'Validador de CPF - FGVentos - 29 08 19.ipynb',\n",
              " 'Trabalhando com Mapas.ipynb',\n",
              " 'ipynb.py',\n",
              " 'CRIMES_V2.ipynb',\n",
              " 'Trabalho_de_Análise_Preditiva_Avançada.ipynb',\n",
              " 'Sena (1).ipynb',\n",
              " 'Sena.ipynb',\n",
              " 'PacMan.ipynb',\n",
              " 'training-blank (1).ipynb',\n",
              " 'training-blank.ipynb',\n",
              " 'Trabalho - Deep Learning - FGV (XP Inc).ipynb',\n",
              " 'Trabalho_Deep_Learning_FGV_(XP_Inc).ipynb',\n",
              " 'INTELIGÊNCIA ARTIFICIAL E FERRAMENTAS AVANÇADAS  DE CIÊNCIA DE DADOS (4H).ipynb',\n",
              " 'EnviaMsgWhatsApp.ipynb',\n",
              " 'Aula Modelagem Estatística Avançada - Mirapalheta 04 02 21.ipynb',\n",
              " 'Aula de Modelagem Estatística avançada - Mirapalheta 04 02 2021 .ipynb',\n",
              " 'Aula 10 02 2021 - Mirapalheta.ipynb',\n",
              " 'mpg.csv']"
            ]
          },
          "metadata": {
            "tags": []
          },
          "execution_count": 31
        }
      ]
    },
    {
      "cell_type": "markdown",
      "metadata": {
        "id": "9tuvDJt7HPeb"
      },
      "source": [
        "## Importando o R para o ambiente"
      ]
    },
    {
      "cell_type": "code",
      "metadata": {
        "colab": {
          "base_uri": "https://localhost:8080/"
        },
        "id": "GcIaFnI2C3OY",
        "outputId": "d6711911-9d60-4c70-ce8f-70028aca2f68"
      },
      "source": [
        "from rpy2 import ipython\n",
        "%load_ext rpy2.ipython"
      ],
      "execution_count": null,
      "outputs": [
        {
          "output_type": "stream",
          "text": [
            "The rpy2.ipython extension is already loaded. To reload it, use:\n",
            "  %reload_ext rpy2.ipython\n"
          ],
          "name": "stdout"
        }
      ]
    },
    {
      "cell_type": "code",
      "metadata": {
        "colab": {
          "base_uri": "https://localhost:8080/"
        },
        "id": "ZEmklGIUC_x7",
        "outputId": "32cd96ca-51c6-4ec4-ce76-b1b1ea031054"
      },
      "source": [
        "%%R \n",
        "\n",
        "install.packages(\"ggplot2\")"
      ],
      "execution_count": null,
      "outputs": [
        {
          "output_type": "stream",
          "text": [
            "R[write to console]: Installing package into ‘/usr/local/lib/R/site-library’\n",
            "(as ‘lib’ is unspecified)\n",
            "\n",
            "R[write to console]: trying URL 'https://cran.rstudio.com/src/contrib/ggplot2_3.3.3.tar.gz'\n",
            "\n",
            "R[write to console]: Content type 'application/x-gzip'\n",
            "R[write to console]:  length 3058840 bytes (2.9 MB)\n",
            "\n",
            "R[write to console]: =\n",
            "R[write to console]: =\n",
            "R[write to console]: =\n",
            "R[write to console]: =\n",
            "R[write to console]: =\n",
            "R[write to console]: =\n",
            "R[write to console]: =\n",
            "R[write to console]: =\n",
            "R[write to console]: =\n",
            "R[write to console]: =\n",
            "R[write to console]: =\n",
            "R[write to console]: =\n",
            "R[write to console]: =\n",
            "R[write to console]: =\n",
            "R[write to console]: =\n",
            "R[write to console]: =\n",
            "R[write to console]: =\n",
            "R[write to console]: =\n",
            "R[write to console]: =\n",
            "R[write to console]: =\n",
            "R[write to console]: =\n",
            "R[write to console]: =\n",
            "R[write to console]: =\n",
            "R[write to console]: =\n",
            "R[write to console]: =\n",
            "R[write to console]: =\n",
            "R[write to console]: =\n",
            "R[write to console]: =\n",
            "R[write to console]: =\n",
            "R[write to console]: =\n",
            "R[write to console]: =\n",
            "R[write to console]: =\n",
            "R[write to console]: =\n",
            "R[write to console]: =\n",
            "R[write to console]: =\n",
            "R[write to console]: =\n",
            "R[write to console]: =\n",
            "R[write to console]: =\n",
            "R[write to console]: =\n",
            "R[write to console]: =\n",
            "R[write to console]: =\n",
            "R[write to console]: =\n",
            "R[write to console]: =\n",
            "R[write to console]: =\n",
            "R[write to console]: =\n",
            "R[write to console]: =\n",
            "R[write to console]: =\n",
            "R[write to console]: =\n",
            "R[write to console]: =\n",
            "R[write to console]: =\n",
            "R[write to console]: \n",
            "\n",
            "R[write to console]: downloaded 2.9 MB\n",
            "\n",
            "\n",
            "R[write to console]: \n",
            "\n",
            "R[write to console]: \n",
            "R[write to console]: The downloaded source packages are in\n",
            "\t‘/tmp/RtmpkghYTu/downloaded_packages’\n",
            "R[write to console]: \n",
            "R[write to console]: \n",
            "\n"
          ],
          "name": "stderr"
        }
      ]
    },
    {
      "cell_type": "code",
      "metadata": {
        "colab": {
          "base_uri": "https://localhost:8080/",
          "height": 217
        },
        "id": "QLGgtxnyDg6o",
        "outputId": "bec287d0-fb84-4036-df26-27e916a3c419"
      },
      "source": [
        "%%R -w 400 -h 200\n",
        "\n",
        "library(ggplot2)\n",
        "\n",
        "ggplot(mpg, aes(x=displ, y=hwy)) + geom_point() "
      ],
      "execution_count": null,
      "outputs": [
        {
          "output_type": "display_data",
          "data": {
            "image/png": "[encoded data removed]"
          },
          "metadata": {
            "tags": []
          }
        }
      ]
    },
    {
      "cell_type": "code",
      "metadata": {
        "id": "CzAllZuREP75"
      },
      "source": [
        "%%R \n",
        "\n",
        "write.csv(mpg, \"mpg.csv\", row.names=FALSE) "
      ],
      "execution_count": null,
      "outputs": []
    },
    {
      "cell_type": "code",
      "metadata": {
        "id": "_y8zMVS1Ehn3"
      },
      "source": [
        "import pandas as pd\n",
        "dados = pd.read_csv(\"mpg.csv\")"
      ],
      "execution_count": null,
      "outputs": []
    },
    {
      "cell_type": "code",
      "metadata": {
        "colab": {
          "base_uri": "https://localhost:8080/",
          "height": 204
        },
        "id": "HJN5jbmeEmE5",
        "outputId": "63daa32a-bdf9-48f1-fd30-35e11e7966b3"
      },
      "source": [
        "dados.head()"
      ],
      "execution_count": null,
      "outputs": [
        {
          "output_type": "execute_result",
          "data": {
            "text/html": [
              "<div>\n",
              "<style scoped>\n",
              "    .dataframe tbody tr th:only-of-type {\n",
              "        vertical-align: middle;\n",
              "    }\n",
              "\n",
              "    .dataframe tbody tr th {\n",
              "        vertical-align: top;\n",
              "    }\n",
              "\n",
              "    .dataframe thead th {\n",
              "        text-align: right;\n",
              "    }\n",
              "</style>\n",
              "<table border=\"1\" class=\"dataframe\">\n",
              "  <thead>\n",
              "    <tr style=\"text-align: right;\">\n",
              "      <th></th>\n",
              "      <th>manufacturer</th>\n",
              "      <th>model</th>\n",
              "      <th>displ</th>\n",
              "      <th>year</th>\n",
              "      <th>cyl</th>\n",
              "      <th>trans</th>\n",
              "      <th>drv</th>\n",
              "      <th>cty</th>\n",
              "      <th>hwy</th>\n",
              "      <th>fl</th>\n",
              "      <th>class</th>\n",
              "    </tr>\n",
              "  </thead>\n",
              "  <tbody>\n",
              "    <tr>\n",
              "      <th>0</th>\n",
              "      <td>audi</td>\n",
              "      <td>a4</td>\n",
              "      <td>1.8</td>\n",
              "      <td>1999</td>\n",
              "      <td>4</td>\n",
              "      <td>auto(l5)</td>\n",
              "      <td>f</td>\n",
              "      <td>18</td>\n",
              "      <td>29</td>\n",
              "      <td>p</td>\n",
              "      <td>compact</td>\n",
              "    </tr>\n",
              "    <tr>\n",
              "      <th>1</th>\n",
              "      <td>audi</td>\n",
              "      <td>a4</td>\n",
              "      <td>1.8</td>\n",
              "      <td>1999</td>\n",
              "      <td>4</td>\n",
              "      <td>manual(m5)</td>\n",
              "      <td>f</td>\n",
              "      <td>21</td>\n",
              "      <td>29</td>\n",
              "      <td>p</td>\n",
              "      <td>compact</td>\n",
              "    </tr>\n",
              "    <tr>\n",
              "      <th>2</th>\n",
              "      <td>audi</td>\n",
              "      <td>a4</td>\n",
              "      <td>2.0</td>\n",
              "      <td>2008</td>\n",
              "      <td>4</td>\n",
              "      <td>manual(m6)</td>\n",
              "      <td>f</td>\n",
              "      <td>20</td>\n",
              "      <td>31</td>\n",
              "      <td>p</td>\n",
              "      <td>compact</td>\n",
              "    </tr>\n",
              "    <tr>\n",
              "      <th>3</th>\n",
              "      <td>audi</td>\n",
              "      <td>a4</td>\n",
              "      <td>2.0</td>\n",
              "      <td>2008</td>\n",
              "      <td>4</td>\n",
              "      <td>auto(av)</td>\n",
              "      <td>f</td>\n",
              "      <td>21</td>\n",
              "      <td>30</td>\n",
              "      <td>p</td>\n",
              "      <td>compact</td>\n",
              "    </tr>\n",
              "    <tr>\n",
              "      <th>4</th>\n",
              "      <td>audi</td>\n",
              "      <td>a4</td>\n",
              "      <td>2.8</td>\n",
              "      <td>1999</td>\n",
              "      <td>6</td>\n",
              "      <td>auto(l5)</td>\n",
              "      <td>f</td>\n",
              "      <td>16</td>\n",
              "      <td>26</td>\n",
              "      <td>p</td>\n",
              "      <td>compact</td>\n",
              "    </tr>\n",
              "  </tbody>\n",
              "</table>\n",
              "</div>"
            ],
            "text/plain": [
              "  manufacturer model  displ  year  cyl       trans drv  cty  hwy fl    class\n",
              "0         audi    a4    1.8  1999    4    auto(l5)   f   18   29  p  compact\n",
              "1         audi    a4    1.8  1999    4  manual(m5)   f   21   29  p  compact\n",
              "2         audi    a4    2.0  2008    4  manual(m6)   f   20   31  p  compact\n",
              "3         audi    a4    2.0  2008    4    auto(av)   f   21   30  p  compact\n",
              "4         audi    a4    2.8  1999    6    auto(l5)   f   16   26  p  compact"
            ]
          },
          "metadata": {
            "tags": []
          },
          "execution_count": 29
        }
      ]
    },
    {
      "cell_type": "markdown",
      "metadata": {
        "id": "YiqARoXfHWCF"
      },
      "source": [
        "## Regrssão linear via scikit-learn"
      ]
    },
    {
      "cell_type": "markdown",
      "metadata": {
        "id": "UFuZdGqRHn5W"
      },
      "source": [
        "Recomendação de leitura: Science Fictions, Stuart Ritchie\n",
        "  + Sobre utilização do conceito de p-valor\n",
        "  + O conceito de p-valor é de difícil entendimento e mais difícil ainda é sua correta utilização\n",
        "  + O conceito envolve as seguintes etapas:\n",
        "    + 1) Pensar em uma hipótese (isto é um modelo)\n",
        "    + 2) Obter uma amostra das variáveis na população e a partir dela, calcular o p-valor\n",
        "    + 3) O p-valor vai te dar a probabilidade de vc ter obtido o resultado que obteve, não por causa de uma correlação entre as suas variáveis, mas sim, decorrente do acaso.\n",
        "\n",
        "  + Considere agora o seguinte cenário:\n",
        "    + é feita uma amostragem de várias variáveis\n",
        "    + são propostos vários modelos com diferentes variáveis de entrada e saída\n",
        "    + é calculado para cada um deles o seu p-valor\n",
        "    + em seguida são declarados \"interessantes\" aqueles modelos que tiverem um p-valor abaixo de 5% (ou de uma linha de corte qualquer)\n",
        "\n",
        "  + Vamos comparar agora, através de um exemplo do dia a dia as duas situações descritas acima. SUponha que você está praticando tiro ao alvo.\n",
        "    + Na primeira situação você pega a arma, olha o alvo (distante) e atira. Depois vai no alvo e verifica se os tiros acertaram o local desejado. Se você acertou, você é um bom atirador.\n",
        "    + Na segunda situação você pega a arma, não olha o local onde vai atirar e dispara a esmo. Depois você vai na parede e marca com um \"X\" os locais onde suas balas acertaram, declarando que atingiu o alvo. Pergunta: Este segundo atirador é um \"sharp-shooter\"?\n",
        "\n",
        "    "
      ]
    },
    {
      "cell_type": "markdown",
      "metadata": {
        "id": "lnVNr4NELPDX"
      },
      "source": [
        "Vamos pensar agora na criação de modelos de previsão dentro da ótica de machine learning\n",
        "\n",
        "  + Divisão imediata dos dados, logo depois de sua coleta, em grupos de treino e teste! O modelo é ajustado no treino e depois ele será validado ou não dependendo do seu desempenho no grupo de teste!\n",
        "  + O critério de desempenho do modelo não é mais o p-valor e sim medidas ligadas a qualidade das suas previsões. No caso de regressão linear, MSE (erro quadrado médio ) e MAE (erro absoluto médio). No caso de regressão logística temos os vários critérios de erro ligados a uma matriz de confusão.\n",
        "\n",
        "  "
      ]
    },
    {
      "cell_type": "markdown",
      "metadata": {
        "id": "qkys69H2MxY9"
      },
      "source": [
        "### Modelo de regressão linear simples:"
      ]
    },
    {
      "cell_type": "code",
      "metadata": {
        "colab": {
          "base_uri": "https://localhost:8080/",
          "height": 204
        },
        "id": "iM0ND0PuJIcE",
        "outputId": "a52f406b-a883-48ee-dae5-ae5da05a274e"
      },
      "source": [
        "import numpy as np\n",
        "import pandas as pd \n",
        "pd.set_option('precision',3)\n",
        "\n",
        "site  = \"https://raw.githubusercontent.com/\"\n",
        "diretorio = \"gustavomirapalheta/classes_datasets/master/\"\n",
        "arquivo = \"vendas_propaganda.csv\"\n",
        "origem = site + diretorio + arquivo\n",
        "\n",
        "dados = pd.read_csv(origem, sep=\";\", decimal=\",\")\n",
        "dados.head()"
      ],
      "execution_count": null,
      "outputs": [
        {
          "output_type": "execute_result",
          "data": {
            "text/html": [
              "<div>\n",
              "<style scoped>\n",
              "    .dataframe tbody tr th:only-of-type {\n",
              "        vertical-align: middle;\n",
              "    }\n",
              "\n",
              "    .dataframe tbody tr th {\n",
              "        vertical-align: top;\n",
              "    }\n",
              "\n",
              "    .dataframe thead th {\n",
              "        text-align: right;\n",
              "    }\n",
              "</style>\n",
              "<table border=\"1\" class=\"dataframe\">\n",
              "  <thead>\n",
              "    <tr style=\"text-align: right;\">\n",
              "      <th></th>\n",
              "      <th>propaganda</th>\n",
              "      <th>vendas</th>\n",
              "    </tr>\n",
              "  </thead>\n",
              "  <tbody>\n",
              "    <tr>\n",
              "      <th>0</th>\n",
              "      <td>30</td>\n",
              "      <td>184.4</td>\n",
              "    </tr>\n",
              "    <tr>\n",
              "      <th>1</th>\n",
              "      <td>40</td>\n",
              "      <td>279.1</td>\n",
              "    </tr>\n",
              "    <tr>\n",
              "      <th>2</th>\n",
              "      <td>40</td>\n",
              "      <td>244.0</td>\n",
              "    </tr>\n",
              "    <tr>\n",
              "      <th>3</th>\n",
              "      <td>50</td>\n",
              "      <td>314.2</td>\n",
              "    </tr>\n",
              "    <tr>\n",
              "      <th>4</th>\n",
              "      <td>60</td>\n",
              "      <td>382.2</td>\n",
              "    </tr>\n",
              "  </tbody>\n",
              "</table>\n",
              "</div>"
            ],
            "text/plain": [
              "   propaganda  vendas\n",
              "0          30   184.4\n",
              "1          40   279.1\n",
              "2          40   244.0\n",
              "3          50   314.2\n",
              "4          60   382.2"
            ]
          },
          "metadata": {
            "tags": []
          },
          "execution_count": 35
        }
      ]
    },
    {
      "cell_type": "code",
      "metadata": {
        "colab": {
          "base_uri": "https://localhost:8080/",
          "height": 204
        },
        "id": "N50lbTWGHWbd",
        "outputId": "b409dd4a-00f9-4ae8-8327-5fa87273ddb5"
      },
      "source": [
        "## Não vamos dividir os dados em treino e teste neste caso! Vamos testar a relação linear\n",
        "\n",
        "from sklearn.linear_model import LinearRegression\n",
        "modelo = LinearRegression()\n",
        "modelo.fit(dados[['propaganda']], dados[['vendas']])\n",
        "dados['vendas_hat'] = modelo.predict(dados[['propaganda']])\n",
        "dados.head()"
      ],
      "execution_count": null,
      "outputs": [
        {
          "output_type": "execute_result",
          "data": {
            "text/html": [
              "<div>\n",
              "<style scoped>\n",
              "    .dataframe tbody tr th:only-of-type {\n",
              "        vertical-align: middle;\n",
              "    }\n",
              "\n",
              "    .dataframe tbody tr th {\n",
              "        vertical-align: top;\n",
              "    }\n",
              "\n",
              "    .dataframe thead th {\n",
              "        text-align: right;\n",
              "    }\n",
              "</style>\n",
              "<table border=\"1\" class=\"dataframe\">\n",
              "  <thead>\n",
              "    <tr style=\"text-align: right;\">\n",
              "      <th></th>\n",
              "      <th>propaganda</th>\n",
              "      <th>vendas</th>\n",
              "      <th>vendas_hat</th>\n",
              "    </tr>\n",
              "  </thead>\n",
              "  <tbody>\n",
              "    <tr>\n",
              "      <th>0</th>\n",
              "      <td>30</td>\n",
              "      <td>184.4</td>\n",
              "      <td>203.675</td>\n",
              "    </tr>\n",
              "    <tr>\n",
              "      <th>1</th>\n",
              "      <td>40</td>\n",
              "      <td>279.1</td>\n",
              "      <td>258.736</td>\n",
              "    </tr>\n",
              "    <tr>\n",
              "      <th>2</th>\n",
              "      <td>40</td>\n",
              "      <td>244.0</td>\n",
              "      <td>258.736</td>\n",
              "    </tr>\n",
              "    <tr>\n",
              "      <th>3</th>\n",
              "      <td>50</td>\n",
              "      <td>314.2</td>\n",
              "      <td>313.798</td>\n",
              "    </tr>\n",
              "    <tr>\n",
              "      <th>4</th>\n",
              "      <td>60</td>\n",
              "      <td>382.2</td>\n",
              "      <td>368.860</td>\n",
              "    </tr>\n",
              "  </tbody>\n",
              "</table>\n",
              "</div>"
            ],
            "text/plain": [
              "   propaganda  vendas  vendas_hat\n",
              "0          30   184.4     203.675\n",
              "1          40   279.1     258.736\n",
              "2          40   244.0     258.736\n",
              "3          50   314.2     313.798\n",
              "4          60   382.2     368.860"
            ]
          },
          "metadata": {
            "tags": []
          },
          "execution_count": 36
        }
      ]
    },
    {
      "cell_type": "code",
      "metadata": {
        "id": "ZIxJiTEBPCS6"
      },
      "source": [
        "dados.to_csv(\"dados.csv\")\n"
      ],
      "execution_count": null,
      "outputs": []
    },
    {
      "cell_type": "code",
      "metadata": {
        "colab": {
          "base_uri": "https://localhost:8080/",
          "height": 217
        },
        "id": "koQVhOb9PNwB",
        "outputId": "ad071070-aa6a-4c35-f8eb-654d854aca3b"
      },
      "source": [
        "# Gerando o gráfico do modelo usando o R\n",
        "\n",
        "%%R -w 400 -h 200\n",
        "library(ggplot2)\n",
        "read.csv(\"dados.csv\") -> dados\n",
        "ggplot(dados, aes(x=propaganda,y=vendas)) + \n",
        "  geom_point(color = 'blue') + \n",
        "  geom_line(aes(y=vendas_hat), color='red')"
      ],
      "execution_count": null,
      "outputs": [
        {
          "output_type": "display_data",
          "data": {
            "image/png": "[encoded data removed]"
          },
          "metadata": {
            "tags": []
          }
        }
      ]
    },
    {
      "cell_type": "code",
      "metadata": {
        "colab": {
          "base_uri": "https://localhost:8080/"
        },
        "id": "J3KEl0ZiQGTw",
        "outputId": "e4363ba5-04d7-4087-9867-3c7565ac230c"
      },
      "source": [
        "## medir o erro\n",
        "\n",
        "from sklearn.metrics import mean_squared_error as mse\n",
        "from sklearn.metrics import mean_absolute_error as mae \n",
        "\n",
        "mse(dados[['vendas_hat']], dados[['vendas']]) "
      ],
      "execution_count": null,
      "outputs": [
        {
          "output_type": "execute_result",
          "data": {
            "text/plain": [
              "365.781429411764"
            ]
          },
          "metadata": {
            "tags": []
          },
          "execution_count": 45
        }
      ]
    },
    {
      "cell_type": "code",
      "metadata": {
        "colab": {
          "base_uri": "https://localhost:8080/"
        },
        "id": "BvLNJj0oQjiA",
        "outputId": "bc835538-84b7-4fe1-8409-cb638654560f"
      },
      "source": [
        "mae(dados[['vendas_hat']], dados[['vendas']])"
      ],
      "execution_count": null,
      "outputs": [
        {
          "output_type": "execute_result",
          "data": {
            "text/plain": [
              "16.35999999999999"
            ]
          },
          "metadata": {
            "tags": []
          },
          "execution_count": 46
        }
      ]
    },
    {
      "cell_type": "markdown",
      "metadata": {
        "id": "BgH0GY-LQ_Ps"
      },
      "source": [
        "### Modelo de regressão múltipla Polinomial:"
      ]
    },
    {
      "cell_type": "code",
      "metadata": {
        "colab": {
          "base_uri": "https://localhost:8080/",
          "height": 204
        },
        "id": "O9oS57QqQ0XJ",
        "outputId": "1b7966b8-4e74-4588-98fe-070cf1779b37"
      },
      "source": [
        "# Obtendo um novo dataset:\n",
        "\n",
        "site  = \"https://raw.githubusercontent.com/\"\n",
        "diretorio = \"gustavomirapalheta/classes_datasets/master/\"\n",
        "arquivo = \"retorno_pl_risco.csv\"\n",
        "origem = site + diretorio + arquivo\n",
        "\n",
        "dados2 = pd.read_csv(origem, sep=\";\", decimal=\",\")\n",
        "dados2.head()\n"
      ],
      "execution_count": null,
      "outputs": [
        {
          "output_type": "execute_result",
          "data": {
            "text/html": [
              "<div>\n",
              "<style scoped>\n",
              "    .dataframe tbody tr th:only-of-type {\n",
              "        vertical-align: middle;\n",
              "    }\n",
              "\n",
              "    .dataframe tbody tr th {\n",
              "        vertical-align: top;\n",
              "    }\n",
              "\n",
              "    .dataframe thead th {\n",
              "        text-align: right;\n",
              "    }\n",
              "</style>\n",
              "<table border=\"1\" class=\"dataframe\">\n",
              "  <thead>\n",
              "    <tr style=\"text-align: right;\">\n",
              "      <th></th>\n",
              "      <th>pl</th>\n",
              "      <th>risco</th>\n",
              "      <th>retorno</th>\n",
              "    </tr>\n",
              "  </thead>\n",
              "  <tbody>\n",
              "    <tr>\n",
              "      <th>0</th>\n",
              "      <td>7.4</td>\n",
              "      <td>1.0</td>\n",
              "      <td>7.6</td>\n",
              "    </tr>\n",
              "    <tr>\n",
              "      <th>1</th>\n",
              "      <td>11.1</td>\n",
              "      <td>1.3</td>\n",
              "      <td>13.0</td>\n",
              "    </tr>\n",
              "    <tr>\n",
              "      <th>2</th>\n",
              "      <td>8.7</td>\n",
              "      <td>1.1</td>\n",
              "      <td>8.9</td>\n",
              "    </tr>\n",
              "    <tr>\n",
              "      <th>3</th>\n",
              "      <td>11.2</td>\n",
              "      <td>1.2</td>\n",
              "      <td>10.9</td>\n",
              "    </tr>\n",
              "    <tr>\n",
              "      <th>4</th>\n",
              "      <td>11.6</td>\n",
              "      <td>1.7</td>\n",
              "      <td>12.1</td>\n",
              "    </tr>\n",
              "  </tbody>\n",
              "</table>\n",
              "</div>"
            ],
            "text/plain": [
              "     pl  risco  retorno\n",
              "0   7.4    1.0      7.6\n",
              "1  11.1    1.3     13.0\n",
              "2   8.7    1.1      8.9\n",
              "3  11.2    1.2     10.9\n",
              "4  11.6    1.7     12.1"
            ]
          },
          "metadata": {
            "tags": []
          },
          "execution_count": 47
        }
      ]
    },
    {
      "cell_type": "code",
      "metadata": {
        "colab": {
          "base_uri": "https://localhost:8080/"
        },
        "id": "qRLOS5vBSQ0R",
        "outputId": "df661586-f2f0-4511-b1e8-f6f747ab5a62"
      },
      "source": [
        "# regressão múltipla (tentar prever uma ação através de 2 critérios (pl e risco))\n",
        "\n",
        "\n",
        "from sklearn.linear_model import LinearRegression\n",
        "modelo1 = LinearRegression()\n",
        "modelo1.fit(dados2[['pl', 'risco']], dados2[['retorno']])\n",
        "dados2['ret_hat1'] = modelo1.predict(dados2[['pl', 'risco']])\n",
        "dados2.to_csv(\"dados2.csv\")\n",
        "\n",
        "from sklearn.metrics import mean_squared_error as mse\n",
        "from sklearn.metrics import mean_absolute_error as mae \n",
        "\n",
        "mse1 = mse(dados2[['ret_hat1']], dados2[['retorno']]) \n",
        "mae1 = mae(dados2[['ret_hat1']], dados2[['retorno']])\n",
        "\n",
        "mse1, mae1"
      ],
      "execution_count": null,
      "outputs": [
        {
          "output_type": "execute_result",
          "data": {
            "text/plain": [
              "(1.206570030588191, 0.8831840047402594)"
            ]
          },
          "metadata": {
            "tags": []
          },
          "execution_count": 52
        }
      ]
    },
    {
      "cell_type": "code",
      "metadata": {
        "colab": {
          "base_uri": "https://localhost:8080/"
        },
        "id": "DvHqcdx7TBIM",
        "outputId": "d1c51946-a64d-4618-b533-6179d998d57b"
      },
      "source": [
        "modelo1.intercept_, modelo1.coef_"
      ],
      "execution_count": null,
      "outputs": [
        {
          "output_type": "execute_result",
          "data": {
            "text/plain": [
              "(array([-3.00930029]), array([[1.15365174, 1.62123397]]))"
            ]
          },
          "metadata": {
            "tags": []
          },
          "execution_count": 53
        }
      ]
    },
    {
      "cell_type": "markdown",
      "metadata": {
        "id": "klhMf1PTdh9O"
      },
      "source": [
        "O modelo desenvolvido foi: $$Ret_{hat} = \\beta_0 + \\beta_1$$"
      ]
    },
    {
      "cell_type": "code",
      "metadata": {
        "colab": {
          "base_uri": "https://localhost:8080/",
          "height": 217
        },
        "id": "1j4rwzVXc32t",
        "outputId": "35fe9656-5fb4-4fb4-f1c5-dc96d4508823"
      },
      "source": [
        "# Observando a distribuição dos pontos:\n",
        "\n",
        "%%R -w 400 -h 200\n",
        "library(ggplot2)\n",
        "read.csv(\"dados2.csv\") -> dados2\n",
        "ggplot(dados2, aes(x=pl,y=retorno)) +   geom_point(color = 'blue')\n"
      ],
      "execution_count": null,
      "outputs": [
        {
          "output_type": "display_data",
          "data": {
            "image/png": "[encoded data removed]"
          },
          "metadata": {
            "tags": []
          }
        }
      ]
    },
    {
      "cell_type": "code",
      "metadata": {
        "colab": {
          "base_uri": "https://localhost:8080/",
          "height": 217
        },
        "id": "OMerBuKGeweK",
        "outputId": "b0420f3f-3b3e-4793-d166-d1e8dc6c4f1c"
      },
      "source": [
        "\n",
        "%%R -w 400 -h 200\n",
        "ggplot(dados2, aes(x=risco,y=retorno)) +   geom_point(color = 'blue')\n"
      ],
      "execution_count": null,
      "outputs": [
        {
          "output_type": "display_data",
          "data": {
            "image/png": "[encoded data removed]"
          },
          "metadata": {
            "tags": []
          }
        }
      ]
    },
    {
      "cell_type": "markdown",
      "metadata": {
        "id": "TbaNPo3je521"
      },
      "source": [
        "Vamos tentar o ajuste do seguinte modelo: $$Ret_{hat} = \\beta_0 + \\beta_1.pl + \\beta_2.risco + \\beta_3.{pl}^2 + \\beta_4.pl.risco + \\beta_5.{risco}^2$$"
      ]
    },
    {
      "cell_type": "code",
      "metadata": {
        "colab": {
          "base_uri": "https://localhost:8080/"
        },
        "id": "D-Id7neEe9lp",
        "outputId": "0edf41a5-f736-45bb-de45-251d96554a38"
      },
      "source": [
        "from sklearn.preprocessing import PolynomialFeatures\n",
        "poli2 = PolynomialFeatures(degree=2, include_bias=False)\n",
        "X = poli2.fit_transform(dados2[['pl', 'risco']]); X"
      ],
      "execution_count": null,
      "outputs": [
        {
          "output_type": "execute_result",
          "data": {
            "text/plain": [
              "array([[  7.4 ,   1.  ,  54.76,   7.4 ,   1.  ],\n",
              "       [ 11.1 ,   1.3 , 123.21,  14.43,   1.69],\n",
              "       [  8.7 ,   1.1 ,  75.69,   9.57,   1.21],\n",
              "       [ 11.2 ,   1.2 , 125.44,  13.44,   1.44],\n",
              "       [ 11.6 ,   1.7 , 134.56,  19.72,   2.89],\n",
              "       [ 12.2 ,   1.3 , 148.84,  15.86,   1.69],\n",
              "       [ 12.5 ,   1.2 , 156.25,  15.  ,   1.44],\n",
              "       [ 12.5 ,   1.3 , 156.25,  16.25,   1.69],\n",
              "       [ 13.  ,   1.6 , 169.  ,  20.8 ,   2.56],\n",
              "       [ 13.4 ,   1.4 , 179.56,  18.76,   1.96]])"
            ]
          },
          "metadata": {
            "tags": []
          },
          "execution_count": 64
        }
      ]
    },
    {
      "cell_type": "code",
      "metadata": {
        "colab": {
          "base_uri": "https://localhost:8080/"
        },
        "id": "Oc4Ku330gJEd",
        "outputId": "0a469eae-319f-494f-a7bf-48583ea79658"
      },
      "source": [
        "from sklearn.linear_model import LinearRegression\n",
        "modelo2 = LinearRegression(fit_intercept=True)\n",
        "modelo2.fit(X, dados2[['retorno']])\n",
        "modelo2.intercept_, modelo2.coef_"
      ],
      "execution_count": null,
      "outputs": [
        {
          "output_type": "execute_result",
          "data": {
            "text/plain": [
              "(array([-61.15265818]),\n",
              " array([[ -8.92885713, 171.0031451 ,   0.47302741,  -1.23139945,\n",
              "         -53.04223498]]))"
            ]
          },
          "metadata": {
            "tags": []
          },
          "execution_count": 68
        }
      ]
    },
    {
      "cell_type": "markdown",
      "metadata": {
        "id": "DI2S8hAchSef"
      },
      "source": [
        "Vamos calcular as previsões"
      ]
    },
    {
      "cell_type": "code",
      "metadata": {
        "colab": {
          "base_uri": "https://localhost:8080/",
          "height": 204
        },
        "id": "KgDxR6GuhR4J",
        "outputId": "999691cf-31e3-4f60-ba8b-52a0ba75b03d"
      },
      "source": [
        "dados2['Ret_hat2'] = modelo2.predict(X)\n",
        "dados2.head()"
      ],
      "execution_count": null,
      "outputs": [
        {
          "output_type": "execute_result",
          "data": {
            "text/html": [
              "<div>\n",
              "<style scoped>\n",
              "    .dataframe tbody tr th:only-of-type {\n",
              "        vertical-align: middle;\n",
              "    }\n",
              "\n",
              "    .dataframe tbody tr th {\n",
              "        vertical-align: top;\n",
              "    }\n",
              "\n",
              "    .dataframe thead th {\n",
              "        text-align: right;\n",
              "    }\n",
              "</style>\n",
              "<table border=\"1\" class=\"dataframe\">\n",
              "  <thead>\n",
              "    <tr style=\"text-align: right;\">\n",
              "      <th></th>\n",
              "      <th>pl</th>\n",
              "      <th>risco</th>\n",
              "      <th>retorno</th>\n",
              "      <th>ret_hat1</th>\n",
              "      <th>Ret_hat2</th>\n",
              "    </tr>\n",
              "  </thead>\n",
              "  <tbody>\n",
              "    <tr>\n",
              "      <th>0</th>\n",
              "      <td>7.4</td>\n",
              "      <td>1.0</td>\n",
              "      <td>7.6</td>\n",
              "      <td>7.149</td>\n",
              "      <td>7.525</td>\n",
              "    </tr>\n",
              "    <tr>\n",
              "      <th>1</th>\n",
              "      <td>11.1</td>\n",
              "      <td>1.3</td>\n",
              "      <td>13.0</td>\n",
              "      <td>11.904</td>\n",
              "      <td>12.912</td>\n",
              "    </tr>\n",
              "    <tr>\n",
              "      <th>2</th>\n",
              "      <td>8.7</td>\n",
              "      <td>1.1</td>\n",
              "      <td>8.9</td>\n",
              "      <td>8.811</td>\n",
              "      <td>9.108</td>\n",
              "    </tr>\n",
              "    <tr>\n",
              "      <th>3</th>\n",
              "      <td>11.2</td>\n",
              "      <td>1.2</td>\n",
              "      <td>10.9</td>\n",
              "      <td>11.857</td>\n",
              "      <td>10.454</td>\n",
              "    </tr>\n",
              "    <tr>\n",
              "      <th>4</th>\n",
              "      <td>11.6</td>\n",
              "      <td>1.7</td>\n",
              "      <td>12.1</td>\n",
              "      <td>13.129</td>\n",
              "      <td>12.053</td>\n",
              "    </tr>\n",
              "  </tbody>\n",
              "</table>\n",
              "</div>"
            ],
            "text/plain": [
              "     pl  risco  retorno  ret_hat1  Ret_hat2\n",
              "0   7.4    1.0      7.6     7.149     7.525\n",
              "1  11.1    1.3     13.0    11.904    12.912\n",
              "2   8.7    1.1      8.9     8.811     9.108\n",
              "3  11.2    1.2     10.9    11.857    10.454\n",
              "4  11.6    1.7     12.1    13.129    12.053"
            ]
          },
          "metadata": {
            "tags": []
          },
          "execution_count": 76
        }
      ]
    },
    {
      "cell_type": "code",
      "metadata": {
        "id": "25f8uVCEhfxp"
      },
      "source": [
        "dados2.drop(['Ret_hat2'], axis=1, inplace=True)"
      ],
      "execution_count": null,
      "outputs": []
    },
    {
      "cell_type": "code",
      "metadata": {
        "colab": {
          "base_uri": "https://localhost:8080/"
        },
        "id": "AgZUhheJh5xp",
        "outputId": "ec1857a6-89ce-4395-d1b2-334af975f14c"
      },
      "source": [
        "from sklearn.metrics import mean_squared_error as mse\n",
        "from sklearn.metrics import mean_absolute_error as mae \n",
        "\n",
        "mse2 = mse(dados2[['Ret_hat2']], dados2[['retorno']]) \n",
        "mae2 = mae(dados2[['Ret_hat2']], dados2[['retorno']])\n",
        "\n",
        "mse2, mae2"
      ],
      "execution_count": null,
      "outputs": [
        {
          "output_type": "execute_result",
          "data": {
            "text/plain": [
              "(0.08776813819233455, 0.2355501168783606)"
            ]
          },
          "metadata": {
            "tags": []
          },
          "execution_count": 79
        }
      ]
    },
    {
      "cell_type": "markdown",
      "metadata": {
        "id": "l1RRmT6mieoE"
      },
      "source": [
        "**Modelo de Regressão Linear Múltipla com Variáveis Categóricas de Entrada**"
      ]
    },
    {
      "cell_type": "code",
      "metadata": {
        "colab": {
          "base_uri": "https://localhost:8080/",
          "height": 204
        },
        "id": "P39olXu8idx3",
        "outputId": "1b313a7a-d5e8-419a-e8f0-7006e948d257"
      },
      "source": [
        "# Obtendo um novo dataset:\n",
        "\n",
        "site  = \"https://raw.githubusercontent.com/\"\n",
        "diretorio = \"gustavomirapalheta/classes_datasets/master/\"\n",
        "arquivo = \"salary.csv\"\n",
        "origem = site + diretorio + arquivo\n",
        "\n",
        "dados3 = pd.read_csv(origem, sep=\";\", decimal=\",\")\n",
        "dados3.head()"
      ],
      "execution_count": null,
      "outputs": [
        {
          "output_type": "execute_result",
          "data": {
            "text/html": [
              "<div>\n",
              "<style scoped>\n",
              "    .dataframe tbody tr th:only-of-type {\n",
              "        vertical-align: middle;\n",
              "    }\n",
              "\n",
              "    .dataframe tbody tr th {\n",
              "        vertical-align: top;\n",
              "    }\n",
              "\n",
              "    .dataframe thead th {\n",
              "        text-align: right;\n",
              "    }\n",
              "</style>\n",
              "<table border=\"1\" class=\"dataframe\">\n",
              "  <thead>\n",
              "    <tr style=\"text-align: right;\">\n",
              "      <th></th>\n",
              "      <th>Sex</th>\n",
              "      <th>Rank</th>\n",
              "      <th>Year</th>\n",
              "      <th>Degree</th>\n",
              "      <th>YSdeg</th>\n",
              "      <th>Salary</th>\n",
              "    </tr>\n",
              "  </thead>\n",
              "  <tbody>\n",
              "    <tr>\n",
              "      <th>0</th>\n",
              "      <td>0</td>\n",
              "      <td>3</td>\n",
              "      <td>25</td>\n",
              "      <td>1</td>\n",
              "      <td>35</td>\n",
              "      <td>36350</td>\n",
              "    </tr>\n",
              "    <tr>\n",
              "      <th>1</th>\n",
              "      <td>0</td>\n",
              "      <td>3</td>\n",
              "      <td>13</td>\n",
              "      <td>1</td>\n",
              "      <td>22</td>\n",
              "      <td>35350</td>\n",
              "    </tr>\n",
              "    <tr>\n",
              "      <th>2</th>\n",
              "      <td>0</td>\n",
              "      <td>3</td>\n",
              "      <td>10</td>\n",
              "      <td>1</td>\n",
              "      <td>23</td>\n",
              "      <td>28200</td>\n",
              "    </tr>\n",
              "    <tr>\n",
              "      <th>3</th>\n",
              "      <td>1</td>\n",
              "      <td>3</td>\n",
              "      <td>7</td>\n",
              "      <td>1</td>\n",
              "      <td>27</td>\n",
              "      <td>26775</td>\n",
              "    </tr>\n",
              "    <tr>\n",
              "      <th>4</th>\n",
              "      <td>0</td>\n",
              "      <td>3</td>\n",
              "      <td>19</td>\n",
              "      <td>0</td>\n",
              "      <td>30</td>\n",
              "      <td>33696</td>\n",
              "    </tr>\n",
              "  </tbody>\n",
              "</table>\n",
              "</div>"
            ],
            "text/plain": [
              "   Sex  Rank  Year  Degree  YSdeg  Salary\n",
              "0    0     3    25       1     35   36350\n",
              "1    0     3    13       1     22   35350\n",
              "2    0     3    10       1     23   28200\n",
              "3    1     3     7       1     27   26775\n",
              "4    0     3    19       0     30   33696"
            ]
          },
          "metadata": {
            "tags": []
          },
          "execution_count": 80
        }
      ]
    },
    {
      "cell_type": "code",
      "metadata": {
        "colab": {
          "base_uri": "https://localhost:8080/"
        },
        "id": "Jk8jUrrrjQZB",
        "outputId": "df6b2376-1df8-473c-de28-43fbe5220566"
      },
      "source": [
        "dados3.columns.to_list()"
      ],
      "execution_count": null,
      "outputs": [
        {
          "output_type": "execute_result",
          "data": {
            "text/plain": [
              "['Sex', 'Rank', 'Year', 'Degree', 'YSdeg', 'Salary']"
            ]
          },
          "metadata": {
            "tags": []
          },
          "execution_count": 81
        }
      ]
    },
    {
      "cell_type": "code",
      "metadata": {
        "colab": {
          "base_uri": "https://localhost:8080/"
        },
        "id": "WGwj9q6ijnVT",
        "outputId": "bfe607ac-e95f-4b82-81cc-fff3bbe8181c"
      },
      "source": [
        "# Selecionando apenas as variáveis de entrada:\n",
        "\n",
        "var_inputs = dados3.columns.to_list()\n",
        "var_inputs.remove('Salary')\n",
        "var_inputs"
      ],
      "execution_count": null,
      "outputs": [
        {
          "output_type": "execute_result",
          "data": {
            "text/plain": [
              "['Sex', 'Rank', 'Year', 'Degree', 'YSdeg']"
            ]
          },
          "metadata": {
            "tags": []
          },
          "execution_count": 84
        }
      ]
    },
    {
      "cell_type": "code",
      "metadata": {
        "colab": {
          "base_uri": "https://localhost:8080/"
        },
        "id": "hAM8Prhnj_0Q",
        "outputId": "cc2c3901-f721-41fe-d5bf-32b32b8f92dc"
      },
      "source": [
        "# Valores da variável de saída\n",
        "\n",
        "var_outut = ['Salary']\n",
        "var_outut"
      ],
      "execution_count": null,
      "outputs": [
        {
          "output_type": "execute_result",
          "data": {
            "text/plain": [
              "['Salary']"
            ]
          },
          "metadata": {
            "tags": []
          },
          "execution_count": 85
        }
      ]
    },
    {
      "cell_type": "code",
      "metadata": {
        "colab": {
          "base_uri": "https://localhost:8080/"
        },
        "id": "eGVh6PTtkOQM",
        "outputId": "225bf89b-3b37-4668-99a1-92076f7e95aa"
      },
      "source": [
        "from sklearn.linear_model import LinearRegression\n",
        "modelo = LinearRegression()\n",
        "modelo.fit(dados3[var_inputs], dados3[var_outut])"
      ],
      "execution_count": null,
      "outputs": [
        {
          "output_type": "execute_result",
          "data": {
            "text/plain": [
              "LinearRegression(copy_X=True, fit_intercept=True, n_jobs=None, normalize=False)"
            ]
          },
          "metadata": {
            "tags": []
          },
          "execution_count": 88
        }
      ]
    },
    {
      "cell_type": "code",
      "metadata": {
        "colab": {
          "base_uri": "https://localhost:8080/",
          "height": 235
        },
        "id": "MiV1V2gOkpds",
        "outputId": "7967ed26-9b66-4543-c6d3-85989faaf997"
      },
      "source": [
        "pd.set_option('precision', 2)\n",
        "coeficientes = pd.DataFrame({'coef':['Intercepto'] + var_inputs,\n",
        "                             'valor':list(modelo.intercept_) + list(modelo.coef_[0])})\n",
        "coeficientes"
      ],
      "execution_count": null,
      "outputs": [
        {
          "output_type": "execute_result",
          "data": {
            "text/html": [
              "<div>\n",
              "<style scoped>\n",
              "    .dataframe tbody tr th:only-of-type {\n",
              "        vertical-align: middle;\n",
              "    }\n",
              "\n",
              "    .dataframe tbody tr th {\n",
              "        vertical-align: top;\n",
              "    }\n",
              "\n",
              "    .dataframe thead th {\n",
              "        text-align: right;\n",
              "    }\n",
              "</style>\n",
              "<table border=\"1\" class=\"dataframe\">\n",
              "  <thead>\n",
              "    <tr style=\"text-align: right;\">\n",
              "      <th></th>\n",
              "      <th>coef</th>\n",
              "      <th>valor</th>\n",
              "    </tr>\n",
              "  </thead>\n",
              "  <tbody>\n",
              "    <tr>\n",
              "      <th>0</th>\n",
              "      <td>Intercepto</td>\n",
              "      <td>11410.15</td>\n",
              "    </tr>\n",
              "    <tr>\n",
              "      <th>1</th>\n",
              "      <td>Sex</td>\n",
              "      <td>1241.79</td>\n",
              "    </tr>\n",
              "    <tr>\n",
              "      <th>2</th>\n",
              "      <td>Rank</td>\n",
              "      <td>5586.18</td>\n",
              "    </tr>\n",
              "    <tr>\n",
              "      <th>3</th>\n",
              "      <td>Year</td>\n",
              "      <td>482.86</td>\n",
              "    </tr>\n",
              "    <tr>\n",
              "      <th>4</th>\n",
              "      <td>Degree</td>\n",
              "      <td>-1331.64</td>\n",
              "    </tr>\n",
              "    <tr>\n",
              "      <th>5</th>\n",
              "      <td>YSdeg</td>\n",
              "      <td>-128.79</td>\n",
              "    </tr>\n",
              "  </tbody>\n",
              "</table>\n",
              "</div>"
            ],
            "text/plain": [
              "         coef     valor\n",
              "0  Intercepto  11410.15\n",
              "1         Sex   1241.79\n",
              "2        Rank   5586.18\n",
              "3        Year    482.86\n",
              "4      Degree  -1331.64\n",
              "5       YSdeg   -128.79"
            ]
          },
          "metadata": {
            "tags": []
          },
          "execution_count": 89
        }
      ]
    },
    {
      "cell_type": "markdown",
      "metadata": {
        "id": "tber1nJUl3iE"
      },
      "source": [
        "*!!! Parei aqui!!! verificar material do professor*"
      ]
    }
  ]
}